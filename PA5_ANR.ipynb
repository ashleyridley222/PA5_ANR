{
 "cells": [
  {
   "cell_type": "raw",
   "id": "d5f814c1",
   "metadata": {},
   "source": []
  },
  {
   "cell_type": "code",
   "execution_count": 1,
   "id": "b8d807ba",
   "metadata": {},
   "outputs": [
    {
     "name": "stdout",
     "output_type": "stream",
     "text": [
      "Enter a word in English to translate to French (enter 0 to quit)turtle\n",
      "The french word for turtle  is tortue\n",
      "Enter a word in English to translate to French (enter 0 to quit)0\n"
     ]
    }
   ],
   "source": [
    "flag=True\n",
    "data={'money' : 'argent',\n",
    "      'food' : 'aliments',\n",
    "     'cat': 'chatte',\n",
    "     'dog' : 'chienne',\n",
    "     'salad' : 'salade',\n",
    "     'sail' :  'naviguer',\n",
    "     'hello': 'bonjour',\n",
    "     'bye' : 'au revoir',\n",
    "     'beautiful' : 'belle',\n",
    "      'pasta' : 'pates',\n",
    "     'wrong': 'mauvais',\n",
    "     'hurt' : 'blesser',\n",
    "     'fell' : 'abattre',\n",
    "      'chips' : 'frites',\n",
    "     'cereal': 'cereale',\n",
    "     'fish' : 'poisson',\n",
    "     'keys' : 'cles',\n",
    "      'turtle' : 'tortue',\n",
    "     'horse': 'jument',\n",
    "     'class' : 'classer'}\n",
    "while flag:\n",
    "    English=input(\"Enter a word in English to translate to French (enter 0 to quit)\")\n",
    "    if English in data.keys():\n",
    "        print(\"The french word for\", English, \" is\", data[English])\n",
    "    elif English==\"0\":\n",
    "        flag=False\n",
    "    else:\n",
    "        print(\"The French word for\", English, \"is not supported\")\n",
    "\n"
   ]
  },
  {
   "cell_type": "code",
   "execution_count": 2,
   "id": "1f2a3bb5",
   "metadata": {},
   "outputs": [],
   "source": [
    "temperature={1 :78,\n",
    "      2 : 90,\n",
    "     3: 50,\n",
    "     4 : 90,\n",
    "     5 : 77,\n",
    "     6 :  67,\n",
    "     7: 68,\n",
    "     8 : 79,\n",
    "     9 : 80,\n",
    "      10: 76,\n",
    "     11: 87,\n",
    "     12: 101,\n",
    "     13: 76,\n",
    "      14 : 90,\n",
    "     14: 78,\n",
    "     15 : 90,\n",
    "     16: 98,\n",
    "      17 : 102,\n",
    "     18: 76,\n",
    "     19 : 90,\n",
    "    20 : 76,\n",
    "    21 : 88,\n",
    "     22: 75,\n",
    "     23 : 64,\n",
    "     24 : 65,\n",
    "     25 :  76,\n",
    "     26: 88,\n",
    "     27 : 89,\n",
    "     28 : 100,\n",
    "     29 : 76,\n",
    "     30: 76,\n",
    "            }"
   ]
  },
  {
   "cell_type": "code",
   "execution_count": 3,
   "id": "ca837416",
   "metadata": {},
   "outputs": [],
   "source": [
    "for i in temperature:\n",
    "    temperature[i]=round(((temperature[i]-32)*5)/9)"
   ]
  },
  {
   "cell_type": "code",
   "execution_count": 4,
   "id": "9b5f7eee",
   "metadata": {},
   "outputs": [
    {
     "data": {
      "text/plain": [
       "{1: 26,\n",
       " 2: 32,\n",
       " 3: 10,\n",
       " 4: 32,\n",
       " 5: 25,\n",
       " 6: 19,\n",
       " 7: 20,\n",
       " 8: 26,\n",
       " 9: 27,\n",
       " 10: 24,\n",
       " 11: 31,\n",
       " 12: 38,\n",
       " 13: 24,\n",
       " 14: 26,\n",
       " 15: 32,\n",
       " 16: 37,\n",
       " 17: 39,\n",
       " 18: 24,\n",
       " 19: 32,\n",
       " 20: 24,\n",
       " 21: 31,\n",
       " 22: 24,\n",
       " 23: 18,\n",
       " 24: 18,\n",
       " 25: 24,\n",
       " 26: 31,\n",
       " 27: 32,\n",
       " 28: 38,\n",
       " 29: 24,\n",
       " 30: 24}"
      ]
     },
     "execution_count": 4,
     "metadata": {},
     "output_type": "execute_result"
    }
   ],
   "source": [
    "temperature"
   ]
  },
  {
   "cell_type": "code",
   "execution_count": 5,
   "id": "6d169340",
   "metadata": {},
   "outputs": [
    {
     "name": "stdout",
     "output_type": "stream",
     "text": [
      "{1: 1, 2: 4, 3: 9, 4: 16, 5: 25, 6: 36, 7: 49, 8: 64, 9: 81, 10: 100, 11: 121, 12: 144, 13: 169, 14: 196, 15: 225}\n"
     ]
    }
   ],
   "source": [
    "d=dict()\n",
    "for x in range(1,16):\n",
    "    d[x]=x**2\n",
    "print(d)  "
   ]
  },
  {
   "cell_type": "markdown",
   "id": "f2146472",
   "metadata": {},
   "source": [
    "# Programming Assignment 4\n",
    "# Ashley Ridley\n",
    "# Version 2\n",
    "# Fall 2022"
   ]
  }
 ],
 "metadata": {
  "kernelspec": {
   "display_name": "Python 3 (ipykernel)",
   "language": "python",
   "name": "python3"
  },
  "language_info": {
   "codemirror_mode": {
    "name": "ipython",
    "version": 3
   },
   "file_extension": ".py",
   "mimetype": "text/x-python",
   "name": "python",
   "nbconvert_exporter": "python",
   "pygments_lexer": "ipython3",
   "version": "3.9.12"
  }
 },
 "nbformat": 4,
 "nbformat_minor": 5
}
